{
  "nbformat": 4,
  "nbformat_minor": 0,
  "metadata": {
    "colab": {
      "name": "twitter1.ipynb",
      "provenance": [],
      "collapsed_sections": [],
      "include_colab_link": true
    },
    "kernelspec": {
      "name": "python3",
      "display_name": "Python 3"
    }
  },
  "cells": [
    {
      "cell_type": "markdown",
      "metadata": {
        "id": "view-in-github",
        "colab_type": "text"
      },
      "source": [
        "<a href=\"https://colab.research.google.com/github/cj2001/trump_tweets/blob/colab_notebook/twitter1.ipynb\" target=\"_parent\"><img src=\"https://colab.research.google.com/assets/colab-badge.svg\" alt=\"Open In Colab\"/></a>"
      ]
    },
    {
      "cell_type": "code",
      "metadata": {
        "id": "DFJQOYL-Vrg0",
        "colab_type": "code",
        "outputId": "20630ff9-c0d2-45a6-c7b9-c74f3387c6da",
        "colab": {
          "base_uri": "https://localhost:8080/",
          "height": 175
        }
      },
      "source": [
        "!pip3 install GetOldTweets3"
      ],
      "execution_count": 0,
      "outputs": [
        {
          "output_type": "stream",
          "text": [
            "Collecting GetOldTweets3\n",
            "  Downloading https://files.pythonhosted.org/packages/ed/f4/a00c2a7c90801abc875325bb5416ce9090ac86d06a00cc887131bd73ba45/GetOldTweets3-0.0.11-py3-none-any.whl\n",
            "Requirement already satisfied: lxml>=3.5.0 in /usr/local/lib/python3.6/dist-packages (from GetOldTweets3) (4.2.6)\n",
            "Collecting pyquery>=1.2.10\n",
            "  Downloading https://files.pythonhosted.org/packages/78/43/95d42e386c61cb639d1a0b94f0c0b9f0b7d6b981ad3c043a836c8b5bc68b/pyquery-1.4.1-py2.py3-none-any.whl\n",
            "Collecting cssselect>0.7.9\n",
            "  Downloading https://files.pythonhosted.org/packages/3b/d4/3b5c17f00cce85b9a1e6f91096e1cc8e8ede2e1be8e96b87ce1ed09e92c5/cssselect-1.1.0-py2.py3-none-any.whl\n",
            "Installing collected packages: cssselect, pyquery, GetOldTweets3\n",
            "Successfully installed GetOldTweets3-0.0.11 cssselect-1.1.0 pyquery-1.4.1\n"
          ],
          "name": "stdout"
        }
      ]
    },
    {
      "cell_type": "code",
      "metadata": {
        "id": "MWoYTJAAWTO5",
        "colab_type": "code",
        "colab": {}
      },
      "source": [
        "import pandas as pd\n",
        "import numpy as np\n",
        "import matplotlib.pyplot as plt\n",
        "import GetOldTweets3 as got"
      ],
      "execution_count": 0,
      "outputs": []
    },
    {
      "cell_type": "markdown",
      "metadata": {
        "id": "DROMyyzdv9yV",
        "colab_type": "text"
      },
      "source": [
        "## Mount the Google drive"
      ]
    },
    {
      "cell_type": "code",
      "metadata": {
        "id": "DzmupsPRV4F8",
        "colab_type": "code",
        "outputId": "1d18ec05-c1d3-46ba-df77-7e7420cca993",
        "colab": {
          "base_uri": "https://localhost:8080/",
          "height": 125
        }
      },
      "source": [
        "from google.colab import drive\n",
        "drive.mount('/content/gdrive')"
      ],
      "execution_count": 0,
      "outputs": [
        {
          "output_type": "stream",
          "text": [
            "Go to this URL in a browser: ***hidden***",
            "\n",
            "Enter your authorization code:\n",
            "··········\n",
            "Mounted at /content/gdrive\n"
          ],
          "name": "stdout"
        }
      ]
    },
    {
      "cell_type": "markdown",
      "metadata": {
        "id": "sumNDXgDwCim",
        "colab_type": "text"
      },
      "source": [
        "## Now we collect the tweets.  (Use this cell if the tweets have not already been collected...otherwise use the cell to load it in from CSV below.)\n",
        "\n",
        "`setMaxTweets(-1)` indicates that we want to collect all of the tweets matching this criteria.  A positive integer, `n`, means to collect the most recent `n` tweets."
      ]
    },
    {
      "cell_type": "code",
      "metadata": {
        "id": "ALkMhAiOWGvK",
        "colab_type": "code",
        "outputId": "a06712d5-34b0-45fe-9485-e3bcfaeee1d6",
        "colab": {
          "base_uri": "https://localhost:8080/",
          "height": 1000
        }
      },
      "source": [
        "tweetCriteria = got.manager.TweetCriteria().setUsername(\"realDonaldTrump\").setMaxTweets(-1)\n",
        "tweets = got.manager.TweetManager.getTweets(tweetCriteria)\n",
        "for tweet in tweets[0:100]:\n",
        "    print(tweet.text + '\\n')"
      ],
      "execution_count": 0,
      "outputs": [
        {
          "output_type": "stream",
          "text": [
            "The ONLY reason we were able to get our great USMCA Trade Deal approved was because the Do Nothing Democrats wanted to show that they could approve something productive in light of the fact that all they even think about is impeachment. She knows nothing about the USMCA Deal!\n",
            "\n",
            "....the American public’s tone deafness - & it should be intolerable, because the American people have had it with this.” @kilmeade @foxandfriends The Radical Left, Do Nothing Democrats have gone CRAZY. They want to make it as hard as possible for me to properly run our Country!\n",
            "\n",
            "“The Dems are complicating matters again. Keeping Mueller out of it was the focus. Keeping it crisp & simple was the key, and now all of a sudden they are saying maybe we’ll go back and visit the Mueller probe, which is absolutely unbelievable, and shows they don’t care about....\n",
            "\n",
            "“The Trump Administration, Trump policies, have put our economy on a trajectory it has never been on before.” Griff Jenkins, @foxandfriends\n",
            "\n",
            "“Stocks kick off Christmas week at All-Time Record Highs.” @foxandfriends\n",
            "\n",
            "....mount some kind of public pressure to demand witnesses, but McConnell has the votes and he can run this trial anyway he wants to. @brithume @foxandfriends\n",
            "\n",
            "Everything we’re seeing from Speaker Pelosi and Senator Schumer suggests that they’re in real doubt about the evidence they’ve brought forth so far not being good enough, and are very, very urgently seeking a way to find some more evidence. The only way to make this work is to..\n",
            "\n",
            "“The real victims here are the American people and the Constitution. The Constitution has been damaged by this ploy being used by Nancy Pelosi. This is a very bad time for the United States Constitution.” @AlanDersh\n",
            "\n",
            "What the Democrats are doing is “Obstruction of the Senate. It’s wrong Constitutionally, it’s wrong morally, and it’s wrong politically.” @AlanDersh @seanhannity @dbongino l agree, and so does the public!\n",
            "\n",
            "STOCK MARKET CLOSES AT ALL-TIME HIGH! What a great time for the Radical Left, Do Nothing Democrats to Impeach your favorite President, especially since he has not done anything wrong!\n",
            "\n",
            "NASDAQ UP 72.2% SINCE OUR GREAT 2016 ELECTION VICTORY! DOW UP 55.8%. The best is yet to come!\n",
            "\n",
            "I agree 100%!\n",
            "\n",
            "Wouldn’t it be reasonable to assume that Republicans in the Senate should handle the Impeachment Hoax in the exact same manner as Democrats in the House handled their recent partisan scam? Why would it be different for Republicans than it was for the Radical Left Democrats?\n",
            "\n",
            "....What right does Crazy Nancy have to hold up this Senate trial. None! She has a bad case and would rather not have a negative decision. This Witch Hunt must end NOW with a trial in the Senate, or let her default & lose. No more time should be wasted on this Impeachment Scam!\n",
            "\n",
            "Nancy Pelosi, who has already lost the House & Speakership once, & is about to lose it again, is doing everything she can to delay the zero Republican vote Articles of Impeachment. She is trying to take over the Senate, & Cryin’ Chuck is trying to take over the trial. No way!....\n",
            "\n",
            "Pelosi gives us the most unfair trial in the history of the U.S. Congress, and now she is crying for fairness in the Senate, and breaking all rules while doing so. She lost Congress once, she will do it again!\n",
            "\n",
            "The Democrats and Crooked Hillary paid for & provided a Fake Dossier, with phony information gotten from foreign sources, pushed it to the corrupt media & Dirty Cops, & have now been caught. They spied on my campaign, then tried to cover it up - Just Like Watergate, but bigger!\n",
            "\n",
            "Melania and I send our warmest wishes to Jewish people in the United States, Israel, and across the world as you commence the 8-day celebration of Hanukkah.\n",
            "\n",
            "Crazy Nancy wants to dictate terms on the Impeachment Hoax to the Republican Majority Senate, but striped away all Due Process, no lawyers or witnesses, on the Democrat Majority House. The Dems just wish it would all end. Their case is dead, their poll numbers are horrendous!\n",
            "\n",
            "\n",
            "\n",
            "\n",
            "\n",
            "\n",
            "\n",
            "Last night I was so proud to have signed the largest Defense Bill ever. The very vital Space Force was created. New planes, ships, missiles, rockets and equipment of every kind, and all made right here in the USA. Additionally, we got Border Wall (being built) funding. Nice!\n",
            "\n",
            "https://twitter.com/deptofdefense/status/1208186990400692224\n",
            "\n",
            "The great Democrat disgrace. But we are winning!\n",
            "\n",
            "Plus, never did anything wrong. Read the Transcripts. A Democrat Hoax!\n",
            "\n",
            "Broke all time Stock Market Record again today. 135 times since my 2016 Election Win. Thank you!\n",
            "\n",
            "Thank you Franklin!\n",
            "\n",
            "\n",
            "\n",
            "BIG thank you to Mac Thornberry (@MacTXPress) for a GREAT Defense Deal! Mac has been a champion for our Military and Vets his whole career, and now he can add Space Force to his accomplishments. Look forward to another great defense bill next year, Mac! @HASCRepublicans\n",
            "\n",
            "Proud of @JimInhofe’s tenacious Oklahoma spirit that got the NDAA done. Maybe the best yet because it takes care of troops &amp; establishes SPACE FORCE, which is 1st new branch since 1947 (Air Force). Another huge win for Jim’s legacy. To many more! @SASCMajority\n",
            "\n",
            "My Administration pushed to include a big expansion to Veteran telehealth in the spending bill so that the brave men and women who served our Country get the care they need. #RuralProsperity\n",
            "\n",
            "Honored to finally put an end to the “Widow’s Tax” and ensure that our surviving military spouses receive their full benefits. The spouses and families of our fallen heroes have suffered enough and WE must do everything in our power to ease the burden.\n",
            "\n",
            "We will always provide for our Veterans and their mental health. I pushed Congress to provide $10 Billion for Vet mental health, suicide prevention outreach, and funding for my PREVENTS Initiative to end Vet suicide. Congress responded. A big win for our Vets!\n",
            "\n",
            "A total Witch Hunt!\n",
            "\n",
            "Last year I signed legislation that gives our Veterans CHOICE, through private providers, and at urgent care facilities! Today we fully funded this $10 billion a year effort that gets our brave Veterans care quickly, and close to home.\n",
            "\n",
            "“It’s time to put House Democrats on trial.” @IngrahamAngle\n",
            "\n",
            "To Our Incredible Federal Workforce:\n",
            "\n",
            "To The Extraordinary Men and Women of the United States Military:\n",
            "\n",
            "We are getting MS-13 gang members, and many other people that shouldn’t be here, out of our Country!\n",
            "\n",
            "THANK YOU! #KAG2020 \n",
            "\n",
            "Nancy Pelosi is looking for a Quid Pro Quo with the Senate. Why aren’t we Impeaching her?\n",
            "\n",
            "Economy is GREAT, Big Stock Market uptick today. Best ranking in 20 years admits CNN!\n",
            "\n",
            "Just had a great call with the President of Brazil, @JairBolsonaro. We discussed many subjects including Trade. The relationship between the United States and Brazil has never been Stronger!\n",
            "\n",
            "....Kevin is strong on Securing the Border, #USMCA, protecting our #2A, and Loves our Vets and Military. Kevin is a true friend, and has my Complete and Total Endorsement!\n",
            "\n",
            "Congressman Kevin Brady (@bradyfortexas) is an outstanding representative for our Country and the Great State of Texas. A big supporter of our #MAGA Agenda....\n",
            "\n",
            "....and has my FULL Endorsement. This is a BIG win for our GOP and a BIG win for South Jersey. South Jersey is TRUMP COUNTRY, so I know ALL NJ Republicans will join me in supporting Jeff Van Drew. The Dems are already coming after him, so help Jeff win.\n",
            "\n",
            "The Democrat Party’s Witch Hunt and CRAZY EXTREME policies are chasing common sense people out of the Dem Party. That’s why Jeff Van Drew (@CongressmanJVD) voted NO on the Impeachment Hoax. Jeff will be joining our growing Republican Party....\n",
            "\n",
            "Congressman @ScottRTipton is a great supporter of the #MAGA Agenda! He fights for your #2A rights and the Border Wall. Scott is working hard for Colorado and has my Complete and Total Endorsement!\n",
            "\n",
            "Thank you to Franklin Graham for stating that his father, the late great Billy Graham, voted for me in the 2016 Election. I know how pleased you are with the work we have all done together!\n",
            "\n",
            "I guess the magazine, “Christianity Today,” is looking for Elizabeth Warren, Bernie Sanders, or those of the socialist/communist bent, to guard their religion. How about Sleepy Joe? The fact is, no President has ever done what I have done for Evangelicals, or religion itself!\n",
            "\n",
            "Had a very good talk with President Xi of China concerning our giant Trade Deal. China has already started large scale purchaes of agricultural product & more. Formal signing being arranged. Also talked about North Korea, where we are working with China, & Hong Kong (progress!).\n",
            "\n",
            "I will be signing our 738 Billion Dollar Defense Spending Bill today. It will include 12 weeks Paid Parental Leave, gives our troops a raise, importantly creates the SPACE FORCE, SOUTHERN BORDER WALL FUNDING, repeals “Cadillac Tax” on Health Plans, raises smoking age to 21! BIG!\n",
            "\n",
            "....have a Radical Left nonbeliever, who wants to take your religion & your guns, than Donald Trump as your President. No President has done more for the Evangelical community, and it’s not even close. You’ll not get anything from those Dems on stage. I won’t be reading ET again!\n",
            "\n",
            "A far left magazine, or very “progressive,” as some would call it, which has been doing poorly and hasn’t been involved with the Billy Graham family for many years, Christianity Today, knows nothing about reading a perfect transcript of a routine phone call and would rather.....\n",
            "\n",
            "Thank you Bill. So true!\n",
            "\n",
            "“House Democrats perpetrating a fraud on America.” @IngrahamAngle\n",
            "\n",
            "#MAGA\n",
            "\n",
            "“What’s been revealed is a Country in better shape than it’s been in decades. Working men and women in the Country are the beneficiaries of a President who’s doing exactly what he said he was going to do, that is to restore prosperity for all Americans.” @LouDobbs Thank you Lou!\n",
            "\n",
            "“This is political malpractice. This is a horrible judgement call on the part of the Speaker. You put your members in Trump friendly districts in a very difficult spot. It’s only going to extend it out further. This looks like the joke that it actually is.” Ben Domenech\n",
            "\n",
            "The reason the Democrats don’t want to submit the Articles of Impeachment to the Senate is that they don’t want corrupt politician Adam Shifty Schiff to testify under oath, nor do they want the Whistleblower, the missing second Whistleblower, the informer, the Bidens, to testify!\n",
            "\n",
            "The House Democrats were unable to get even a single vote from the Republicans on their Impeachment Hoax. The Republicans have never been so united! The Dem’s case is so bad that they don’t even want to go to trial!\n",
            "\n",
            "So after the Democrats gave me no Due Process in the House, no lawyers, no witnesses, no nothing, they now want to tell the Senate how to run their trial. Actually, they have zero proof of anything, they will never even show up. They want out. I want an immediate trial!\n",
            "\n",
            "The great USMCA Trade Deal (Mexico & Canada) has been sitting on Nancy Pelosi’s desk for 8 months, she doesn’t even know what it says, & today, after passing by a wide margin in the House, Pelosi tried to take credit for it. Labor will vote for Trump. Trade deal is great for USA!\n",
            "\n",
            "“Jesse (Watters), this is the best year any President has ever had, plus we get an impeachment.” @greggutfeld The Five @FoxNews\n",
            "\n",
            "Pelosi feels her phony impeachment HOAX is so pathetic she is afraid to present it to the Senate, which can set a date and put this whole SCAM into default if they refuse to show up! The Do Nothings are so bad for our Country!\n",
            "\n",
            "Thank you Rena!\n",
            "\n",
            "Thank you Terrence!\n",
            "\n",
            "Thank you Anne!\n",
            "\n",
            "Our great Congressman Gohmert is a TRUE patriot fighting back against people that must hate our Country!\n",
            "\n",
            "This is what the Dems are dealing with. Does anyone think this is good for the USA!\n",
            "\n",
            "I got Impeached last night without one Republican vote being cast with the Do Nothing Dems on their continuation of the greatest Witch Hunt in American history. Now the Do Nothing Party want to Do Nothing with the Articles & not deliver them to the Senate, but it’s Senate’s call!\n",
            "\n",
            "PRESIDENTIAL HARASSMENT!\n",
            "\n",
            "“The Senate shall set the time and place of the trial.” If the Do Nothing Democrats decide, in their great wisdom, not to show up, they would lose by Default!\n",
            "\n",
            "100% Republican Vote. That’s what people are talking about. The Republicans are united like never before!\n",
            "\n",
            "\n",
            "\n",
            "THANK YOU! #KAG\n",
            "\n",
            "Thank you Michigan, I am on my way. See everybody soon! #KAG\n",
            "\n",
            "SUCH ATROCIOUS LIES BY THE RADICAL LEFT, DO NOTHING DEMOCRATS. THIS IS AN ASSAULT ON AMERICA, AND AN ASSAULT ON THE REPUBLICAN PARTY!!!!\n",
            "\n",
            "....won’t convict and remove the President - Then the House should not be Impeaching the President in the first place. If this is the new standard, every President from here on out is impeachable.” Andy McCarthy @FoxNews So well stated. Thank you!\n",
            "\n",
            "In the end here, nothing happened. We don’t approach anything like the egregious conduct that should be necessary before a President should be removed from office. I believe that a President can’t be removed from office if there is no reasonable possibility that the Senate..\n",
            "\n",
            "“The evidence has to be overwhelming, and it is not. It’s not even close.” Ken Starr, Former Independent Counsel\n",
            "\n",
            "Will go down in history as worst Speaker. Already thrown out once!\n",
            "\n",
            "Thank you!\n",
            "\n",
            "“Impeachment is a terrible idea for the Country. The more people learn about impeachment, the less people want impeachment.” @TuckerCarlson\n",
            "\n",
            "“This is all about convicting a President based on innuendo, not on the facts. Even the Ukrainian President said there was no pressure!” @RepMarkMeadows\n",
            "\n",
            "Thank you!\n",
            "\n",
            "Sean P is a much stronger candidate!\n",
            "\n",
            "Sean is a great patriot and will do a fantastic job. Has my total and complete endorsement!\n",
            "\n",
            "....out, and he’s been amazing at it. The Democrsts have no message, they have no hope for 2020.” @RepDougCollins @foxandfriends Thank you Doug!\n",
            "\n",
            "....had, while the Democrats are just looking out for elections. This President should just continue to fight like he’s always fought, for himself & for this Country. Continue to put forth policies like prescription drugs & trade policies. That’s what makes this President stand..\n",
            "\n",
            "....said, “I’m going to clean up Washington, I’m going to help people.” He gave big tax cuts, he’s made our military strong. They’re mad at him because he actually did what he said he was going to do. History will record we’re experiencing some of the best times we’ve ever.....\n",
            "\n",
            "“It’s sad. Here’s a gentleman who came to the White House and all they had was never to let him have an easy breath. All they wanted to do is impeach him. They started the day after he was elected, even the day after he was sworn in. But this President came to Washington and....\n",
            "\n",
            "“They just wanted to get at the President. They had no intention of having a proper investigation. They couldn’t find any crimes so they did a vague abuse of power and abuse of Congress, which every administration from the beginning has done.” @RepDougCollins @foxandfriends\n",
            "\n",
            "Can you believe that I will be impeached today by the Radical Left, Do Nothing Democrats, AND I DID NOTHING WRONG! A terrible Thing. Read the Transcripts. This should never happen to another President again. Say a PRAYER!\n",
            "\n",
            ".@foxandfriends “My hope is that impeachment will never become this trivial again.” @kilmeade Well said Brian!\n",
            "\n",
            ".@marcthiessen “Voters say the Democrats are trying to take away their votes. Pelosi was right the first time. Impeachment has backfired thoroughly on the Democrats. How can you Impeach the President for going to the courts?”\n",
            "\n",
            "....They want to Impeach me (I’m not worried!), and yet they were all breaking the law in so many ways. How can they do that and yet impeach a very successful (Economy Plus) President of the United States, who has done nothing wrong? These people are Crazy!\n",
            "\n",
            "So, if Comey & the top people in the FBI were dirty cops and cheated on the FISA Court, wouldn’t all of these phony cases have to be overturned or dismissed? They went after me with the Fake Dossier, paid for by Crooked Hillary & the DNC, which they illegally presented to FISA...\n",
            "\n",
            "Good marks and reviews on the letter I sent to Pelosi today. She is the worst! No wonder with people like her and Cryin’ Chuck Schumer, D.C. has been such a mess for so long - and that includes the previous administration who (and now we know for sure) SPIED on my campaign.\n",
            "\n"
          ],
          "name": "stdout"
        }
      ]
    },
    {
      "cell_type": "code",
      "metadata": {
        "id": "1u8obH9SMyWP",
        "colab_type": "code",
        "colab": {}
      },
      "source": [
        ""
      ],
      "execution_count": 0,
      "outputs": []
    },
    {
      "cell_type": "code",
      "metadata": {
        "id": "ZKNJarn3Wrug",
        "colab_type": "code",
        "outputId": "60dfe2d1-3130-4843-fb8c-b04d9d21e94e",
        "colab": {
          "base_uri": "https://localhost:8080/",
          "height": 34
        }
      },
      "source": [
        "len(tweets)"
      ],
      "execution_count": 0,
      "outputs": [
        {
          "output_type": "execute_result",
          "data": {
            "text/plain": [
              "40868"
            ]
          },
          "metadata": {
            "tags": []
          },
          "execution_count": 27
        }
      ]
    },
    {
      "cell_type": "markdown",
      "metadata": {
        "id": "uSXcUQK6wop4",
        "colab_type": "text"
      },
      "source": [
        "## We now assemble a data frame of dates and tweets and save that to a .csv file to save time on the tweet collection for future analyses."
      ]
    },
    {
      "cell_type": "code",
      "metadata": {
        "id": "hQUHlB53sp2F",
        "colab_type": "code",
        "colab": {}
      },
      "source": [
        "temp_dates = [tweet.formatted_date for tweet in tweets]\n",
        "temp_tweets = [tweet.text for tweet in tweets]\n",
        "df = pd.DataFrame()\n",
        "df['date'] = temp_dates\n",
        "df['tweet'] = temp_tweets\n",
        "\n",
        "df.to_csv('trump_tweets.csv', sep=',', columns=None, header=True, index=False)\n",
        "!cp trump_tweets.csv drive/My\\ Drive/Colab\\ Notebooks/"
      ],
      "execution_count": 0,
      "outputs": []
    },
    {
      "cell_type": "code",
      "metadata": {
        "id": "b4VZUrtAjSzo",
        "colab_type": "code",
        "outputId": "25648a61-70db-4e4f-f7ed-37707e57d203",
        "colab": {
          "base_uri": "https://localhost:8080/",
          "height": 195
        }
      },
      "source": [
        "df.head()"
      ],
      "execution_count": 0,
      "outputs": [
        {
          "output_type": "execute_result",
          "data": {
            "text/html": [
              "<div>\n",
              "<style scoped>\n",
              "    .dataframe tbody tr th:only-of-type {\n",
              "        vertical-align: middle;\n",
              "    }\n",
              "\n",
              "    .dataframe tbody tr th {\n",
              "        vertical-align: top;\n",
              "    }\n",
              "\n",
              "    .dataframe thead th {\n",
              "        text-align: right;\n",
              "    }\n",
              "</style>\n",
              "<table border=\"1\" class=\"dataframe\">\n",
              "  <thead>\n",
              "    <tr style=\"text-align: right;\">\n",
              "      <th></th>\n",
              "      <th>date</th>\n",
              "      <th>tweet</th>\n",
              "    </tr>\n",
              "  </thead>\n",
              "  <tbody>\n",
              "    <tr>\n",
              "      <th>0</th>\n",
              "      <td>Tue Dec 24 13:25:26 +0000 2019</td>\n",
              "      <td>The ONLY reason we were able to get our great ...</td>\n",
              "    </tr>\n",
              "    <tr>\n",
              "      <th>1</th>\n",
              "      <td>Tue Dec 24 13:15:58 +0000 2019</td>\n",
              "      <td>....the American public’s tone deafness - &amp; it...</td>\n",
              "    </tr>\n",
              "    <tr>\n",
              "      <th>2</th>\n",
              "      <td>Tue Dec 24 13:15:57 +0000 2019</td>\n",
              "      <td>“The Dems are complicating matters again. Keep...</td>\n",
              "    </tr>\n",
              "    <tr>\n",
              "      <th>3</th>\n",
              "      <td>Tue Dec 24 12:21:33 +0000 2019</td>\n",
              "      <td>“The Trump Administration, Trump policies, hav...</td>\n",
              "    </tr>\n",
              "    <tr>\n",
              "      <th>4</th>\n",
              "      <td>Tue Dec 24 12:15:46 +0000 2019</td>\n",
              "      <td>“Stocks kick off Christmas week at All-Time Re...</td>\n",
              "    </tr>\n",
              "  </tbody>\n",
              "</table>\n",
              "</div>"
            ],
            "text/plain": [
              "                             date                                              tweet\n",
              "0  Tue Dec 24 13:25:26 +0000 2019  The ONLY reason we were able to get our great ...\n",
              "1  Tue Dec 24 13:15:58 +0000 2019  ....the American public’s tone deafness - & it...\n",
              "2  Tue Dec 24 13:15:57 +0000 2019  “The Dems are complicating matters again. Keep...\n",
              "3  Tue Dec 24 12:21:33 +0000 2019  “The Trump Administration, Trump policies, hav...\n",
              "4  Tue Dec 24 12:15:46 +0000 2019  “Stocks kick off Christmas week at All-Time Re..."
            ]
          },
          "metadata": {
            "tags": []
          },
          "execution_count": 72
        }
      ]
    },
    {
      "cell_type": "markdown",
      "metadata": {
        "id": "aO-XuOcqyQj2",
        "colab_type": "text"
      },
      "source": [
        "## Now we will import the sentiment training set\n",
        "This is hosted on Kaggle [here](https://www.kaggle.com/kazanova/sentiment140#training.1600000.processed.noemoticon.csv)"
      ]
    },
    {
      "cell_type": "code",
      "metadata": {
        "id": "lCklon-Otrob",
        "colab_type": "code",
        "outputId": "83057e71-57f1-493d-b05f-7a1c9be0c355",
        "colab": {
          "base_uri": "https://localhost:8080/",
          "height": 34
        }
      },
      "source": [
        "#pip install kaggle-cli\n",
        "\n",
        "import os\n",
        "#import kaggle-cli\n",
        "\n",
        "os.environ['KAGGLE_USERNAME'] = \"***hidden***\" # username from the json file\n",
        "os.environ['KAGGLE_KEY'] = \"***hidden***\" # key from the json file\n",
        "!kaggle datasets download -d kazanova/sentiment140 -p gdrive/My\\ Drive/Colab\\ Notebooks/ # api copied from kaggle"
      ],
      "execution_count": 0,
      "outputs": [
        {
          "output_type": "stream",
          "text": [
            "sentiment140.zip: Skipping, found more recently modified local copy (use --force to force download)\n"
          ],
          "name": "stdout"
        }
      ]
    },
    {
      "cell_type": "code",
      "metadata": {
        "id": "tDlMptzxuTlm",
        "colab_type": "code",
        "outputId": "3c61236d-414f-4748-9f4e-82af10d9fb49",
        "colab": {
          "base_uri": "https://localhost:8080/",
          "height": 52
        }
      },
      "source": [
        "!unzip *.zip"
      ],
      "execution_count": 0,
      "outputs": [
        {
          "output_type": "stream",
          "text": [
            "Archive:  sentiment140.zip\n",
            "  inflating: training.1600000.processed.noemoticon.csv  \n"
          ],
          "name": "stdout"
        }
      ]
    },
    {
      "cell_type": "code",
      "metadata": {
        "id": "kjpJIMK4u-Ge",
        "colab_type": "code",
        "outputId": "525d3a2c-4077-4ff9-ef6d-ba814981cba9",
        "colab": {
          "base_uri": "https://localhost:8080/",
          "height": 195
        }
      },
      "source": [
        "DATASET_COLUMNS = [\"target\", \"ids\", \"date\", \"flag\", \"user\", \"text\"]\n",
        "DATASET_ENCODING = \"ISO-8859-1\"\n",
        "twitter_corpus = pd.read_csv('training.1600000.processed.noemoticon.csv', encoding =DATASET_ENCODING , names=DATASET_COLUMNS)\n",
        "twitter_corpus.drop(['ids','flag','date','user'],axis=1,inplace=True)\n",
        "# df['target']=df['target'].apply(lambda x: x/4)\n",
        "twitter_corpus.head()"
      ],
      "execution_count": 0,
      "outputs": [
        {
          "output_type": "execute_result",
          "data": {
            "text/html": [
              "<div>\n",
              "<style scoped>\n",
              "    .dataframe tbody tr th:only-of-type {\n",
              "        vertical-align: middle;\n",
              "    }\n",
              "\n",
              "    .dataframe tbody tr th {\n",
              "        vertical-align: top;\n",
              "    }\n",
              "\n",
              "    .dataframe thead th {\n",
              "        text-align: right;\n",
              "    }\n",
              "</style>\n",
              "<table border=\"1\" class=\"dataframe\">\n",
              "  <thead>\n",
              "    <tr style=\"text-align: right;\">\n",
              "      <th></th>\n",
              "      <th>target</th>\n",
              "      <th>text</th>\n",
              "    </tr>\n",
              "  </thead>\n",
              "  <tbody>\n",
              "    <tr>\n",
              "      <th>0</th>\n",
              "      <td>0</td>\n",
              "      <td>@switchfoot http://twitpic.com/2y1zl - Awww, t...</td>\n",
              "    </tr>\n",
              "    <tr>\n",
              "      <th>1</th>\n",
              "      <td>0</td>\n",
              "      <td>is upset that he can't update his Facebook by ...</td>\n",
              "    </tr>\n",
              "    <tr>\n",
              "      <th>2</th>\n",
              "      <td>0</td>\n",
              "      <td>@Kenichan I dived many times for the ball. Man...</td>\n",
              "    </tr>\n",
              "    <tr>\n",
              "      <th>3</th>\n",
              "      <td>0</td>\n",
              "      <td>my whole body feels itchy and like its on fire</td>\n",
              "    </tr>\n",
              "    <tr>\n",
              "      <th>4</th>\n",
              "      <td>0</td>\n",
              "      <td>@nationwideclass no, it's not behaving at all....</td>\n",
              "    </tr>\n",
              "  </tbody>\n",
              "</table>\n",
              "</div>"
            ],
            "text/plain": [
              "   target                                               text\n",
              "0       0  @switchfoot http://twitpic.com/2y1zl - Awww, t...\n",
              "1       0  is upset that he can't update his Facebook by ...\n",
              "2       0  @Kenichan I dived many times for the ball. Man...\n",
              "3       0    my whole body feels itchy and like its on fire \n",
              "4       0  @nationwideclass no, it's not behaving at all...."
            ]
          },
          "metadata": {
            "tags": []
          },
          "execution_count": 103
        }
      ]
    },
    {
      "cell_type": "markdown",
      "metadata": {
        "id": "4PghHSaf4ysn",
        "colab_type": "text"
      },
      "source": [
        "## The column meanings are described on the Kaggle download site.\n",
        "\n",
        "However, the important one is target, which is the polarity of the tweet (0 = negative, 2 = neutral, 4 = positive).  We will use this data set to train a model and then put the Trump tweets through it.  (We could normalize this column with the commented out line above.)\n",
        "\n",
        "See [this link](https://www.kaggle.com/paoloripamonti/twitter-sentiment-analysis) to continue on with this analysis."
      ]
    },
    {
      "cell_type": "code",
      "metadata": {
        "id": "40awxT-q3gY6",
        "colab_type": "code",
        "colab": {}
      },
      "source": [
        ""
      ],
      "execution_count": 0,
      "outputs": []
    }
  ]
}